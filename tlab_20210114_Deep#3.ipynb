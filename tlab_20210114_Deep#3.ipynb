{
 "cells": [
  {
   "cell_type": "code",
   "execution_count": 1,
   "metadata": {},
   "outputs": [],
   "source": [
    "import pandas as pd\n",
    "train_df = pd.read_csv(r\"C:\\Users\\pc\\Kdigital\\Deep.rf\\data\\train.csv\", nrows=100000)\n",
    "\n",
    "unused_columns, label_column = [\"id\", \"hour\", \"device_id\", \"device_ip\"], \"click\"\n",
    "train_df = train_df.drop(unused_columns, axis=1)\n",
    "X_dict_train = list(train_df.drop(label_column, axis=1).T.to_dict().values())\n",
    "\n",
    "y_train = train_df[label_column]\n",
    "\n",
    "test_df = pd.read_csv(\"train.csv\", header=0, skiprows=(1,100000), nrows=100000)\n",
    "test_df = test_df.drop(unused_columns, axis=1)\n",
    "X_dict_test = list(test_df.drop(label_column, axis=1).T.to_dict().values())\n",
    "y_test = test_df[label_column]\n",
    "\n",
    "from sklearn.feature_extraction import DictVectorizer\n",
    "vectorizer = DictVectorizer(sparse=True) #희소행렬이 만들어짐\n",
    "\n",
    "X_train = vectorizer.fit_transform(X_dict_train)\n",
    "X_test = vectorizer.fit_transform(X_dict_test)\n"
   ]
  },
  {
   "cell_type": "code",
   "execution_count": 2,
   "metadata": {},
   "outputs": [],
   "source": [
    "from sklearn.tree import DecisionTreeClassifier\n",
    "from sklearn.model_selection import GridSearchCV\n",
    "\n",
    "parameters = {\"max_depth\" : [3, 10, None]}\n",
    "decision_tree = DecisionTreeClassifier(criterion = \"gini\",\n",
    "                                        min_samples_split=30)\n",
    "\n",
    "grid_search = GridSearchCV(decision_tree, parameters,\n",
    "                          n_jobs=-1, cv=3, scoring=\"roc_auc\")\n",
    "\n",
    "grid_search.fit(X_train, y_train)\n",
    "decision_tree_best = grid_search.best_estimator_"
   ]
  },
  {
   "cell_type": "code",
   "execution_count": 4,
   "metadata": {},
   "outputs": [
    {
     "ename": "NameError",
     "evalue": "name 'export_graphviz' is not defined",
     "output_type": "error",
     "traceback": [
      "\u001b[1;31m---------------------------------------------------------------------------\u001b[0m",
      "\u001b[1;31mNameError\u001b[0m                                 Traceback (most recent call last)",
      "\u001b[1;32m<ipython-input-4-d1dcf5b262a9>\u001b[0m in \u001b[0;36m<module>\u001b[1;34m\u001b[0m\n\u001b[1;32m----> 1\u001b[1;33m export_graphviz(tree, out_file = \"iris.dot\",\n\u001b[0m\u001b[0;32m      2\u001b[0m                 \u001b[0mfeature_names\u001b[0m\u001b[1;33m=\u001b[0m\u001b[0miris\u001b[0m\u001b[1;33m.\u001b[0m\u001b[0mfeature_names\u001b[0m\u001b[1;33m[\u001b[0m\u001b[1;36m2\u001b[0m\u001b[1;33m:\u001b[0m\u001b[1;33m]\u001b[0m\u001b[1;33m,\u001b[0m\u001b[1;33m\u001b[0m\u001b[1;33m\u001b[0m\u001b[0m\n\u001b[0;32m      3\u001b[0m                 \u001b[0mclass_names\u001b[0m\u001b[1;33m=\u001b[0m\u001b[0miris\u001b[0m\u001b[1;33m.\u001b[0m\u001b[0mtarget_names\u001b[0m \u001b[1;33m,\u001b[0m\u001b[1;33m\u001b[0m\u001b[1;33m\u001b[0m\u001b[0m\n\u001b[0;32m      4\u001b[0m                 \u001b[0mrounded\u001b[0m \u001b[1;33m=\u001b[0m\u001b[1;32mTrue\u001b[0m \u001b[1;33m,\u001b[0m\u001b[1;33m\u001b[0m\u001b[1;33m\u001b[0m\u001b[0m\n\u001b[0;32m      5\u001b[0m                 \u001b[0mfilled\u001b[0m\u001b[1;33m=\u001b[0m\u001b[1;32mTrue\u001b[0m\u001b[1;33m,\u001b[0m\u001b[1;33m\u001b[0m\u001b[1;33m\u001b[0m\u001b[0m\n",
      "\u001b[1;31mNameError\u001b[0m: name 'export_graphviz' is not defined"
     ]
    }
   ],
   "source": [
    "\n",
    "export_graphviz(tree, out_file = \"iris.dot\",\n",
    "                feature_names=iris.feature_names[2:],\n",
    "                class_names=iris.target_names , \n",
    "                rounded =True ,\n",
    "                filled=True, \n",
    "                impurity=True)\n",
    "\n",
    "import pydot\n",
    "\n",
    "graph = pydot.graph_from_dot_file(\"iris.dot\")[0]\n",
    "iris_png =graph.create_png()\n",
    "graph.write_png(\"iris.png\")\n",
    "from IPython.core.display import Image\n",
    "Image(iris_png)"
   ]
  },
  {
   "cell_type": "code",
   "execution_count": 5,
   "metadata": {},
   "outputs": [
    {
     "ename": "ModuleNotFoundError",
     "evalue": "No module named 'pydot'",
     "output_type": "error",
     "traceback": [
      "\u001b[1;31m---------------------------------------------------------------------------\u001b[0m",
      "\u001b[1;31mModuleNotFoundError\u001b[0m                       Traceback (most recent call last)",
      "\u001b[1;32m<ipython-input-5-e309d39d5022>\u001b[0m in \u001b[0;36m<module>\u001b[1;34m\u001b[0m\n\u001b[0;32m      8\u001b[0m                 impurity=True)\n\u001b[0;32m      9\u001b[0m \u001b[1;33m\u001b[0m\u001b[0m\n\u001b[1;32m---> 10\u001b[1;33m \u001b[1;32mimport\u001b[0m \u001b[0mpydot\u001b[0m\u001b[1;33m\u001b[0m\u001b[1;33m\u001b[0m\u001b[0m\n\u001b[0m\u001b[0;32m     11\u001b[0m \u001b[1;33m\u001b[0m\u001b[0m\n\u001b[0;32m     12\u001b[0m \u001b[0mgraph\u001b[0m \u001b[1;33m=\u001b[0m \u001b[0mpydot\u001b[0m\u001b[1;33m.\u001b[0m\u001b[0mgraph_from_dot_file\u001b[0m\u001b[1;33m(\u001b[0m\u001b[1;34m\"ad.dot\"\u001b[0m\u001b[1;33m)\u001b[0m\u001b[1;33m[\u001b[0m\u001b[1;36m0\u001b[0m\u001b[1;33m]\u001b[0m\u001b[1;33m\u001b[0m\u001b[1;33m\u001b[0m\u001b[0m\n",
      "\u001b[1;31mModuleNotFoundError\u001b[0m: No module named 'pydot'"
     ]
    }
   ],
   "source": [
    "from sklearn.tree import export_graphviz\n",
    "\n",
    "export_graphviz(decision_tree_best, out_file = \"ad.dot\",\n",
    "                feature_names=vectorizer.feature_names_,\n",
    "                class_names=[\"0\",\"1\"], \n",
    "                rounded =True ,\n",
    "                filled=True, \n",
    "                impurity=True)\n",
    "\n",
    "import pydot\n",
    "\n",
    "graph = pydot.graph_from_dot_file(\"ad.dot\")[0]\n",
    "iris_png =graph.create_png()\n",
    "graph.write_png(\"ad.png\")\n"
   ]
  },
  {
   "cell_type": "code",
   "execution_count": null,
   "metadata": {},
   "outputs": [],
   "source": []
  },
  {
   "cell_type": "code",
   "execution_count": null,
   "metadata": {},
   "outputs": [],
   "source": [
    "from IPython.core.display import Image\n",
    "#Image(iris_png)\n",
    "Image(\"ad.png\")\n",
    "\n"
   ]
  },
  {
   "cell_type": "code",
   "execution_count": null,
   "metadata": {},
   "outputs": [],
   "source": [
    "from sklearn.tree import export_graphviz\n",
    "\n",
    "\n",
    "export_graphviz(decision_tree_best, out_file='ad.dot', \n",
    "                           feature_names= vectorizer.feature_names_,\n",
    "                           class_names=[\"0\",\"1\"],rounded=True, \n",
    "                           filled=True, impurity=True)\n",
    "\n",
    "import pydot\n",
    "\n",
    "graph=pydot.graph_from_dot_file(\"ad.dot\")[0]\n",
    "\n",
    "ad_png=graph.create_png()\n",
    "\n",
    "from IPython.core.display import Image\n",
    "\n",
    "Image(ad_png)"
   ]
  },
  {
   "cell_type": "code",
   "execution_count": null,
   "metadata": {},
   "outputs": [],
   "source": []
  },
  {
   "cell_type": "code",
   "execution_count": null,
   "metadata": {},
   "outputs": [],
   "source": []
  },
  {
   "cell_type": "code",
   "execution_count": null,
   "metadata": {},
   "outputs": [],
   "source": []
  }
 ],
 "metadata": {
  "kernelspec": {
   "display_name": "study2",
   "language": "python",
   "name": "study"
  },
  "language_info": {
   "codemirror_mode": {
    "name": "ipython",
    "version": 3
   },
   "file_extension": ".py",
   "mimetype": "text/x-python",
   "name": "python",
   "nbconvert_exporter": "python",
   "pygments_lexer": "ipython3",
   "version": "3.6.12"
  }
 },
 "nbformat": 4,
 "nbformat_minor": 4
}
