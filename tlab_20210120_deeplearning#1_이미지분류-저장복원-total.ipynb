{
 "cells": [
  {
   "cell_type": "markdown",
   "metadata": {},
   "source": [
    "1. 모델 생성"
   ]
  },
  {
   "cell_type": "code",
   "execution_count": 1,
   "metadata": {},
   "outputs": [
    {
     "name": "stdout",
     "output_type": "stream",
     "text": [
      "313/313 - 0s - loss: 348.4611 - accuracy: 0.1043\n",
      "훈련되지 않은 모델의 정확도 : 10.43%\n",
      "Epoch 1/10\n",
      "1875/1875 [==============================] - 2s 781us/step - loss: 2.8172 - accuracy: 0.6781 - val_loss: 0.7876 - val_accuracy: 0.6773\n",
      "\n",
      "Epoch 00001: saving model to ../training_c1\\cp.ckpt\n",
      "Epoch 2/10\n",
      "1875/1875 [==============================] - 1s 597us/step - loss: 0.6848 - accuracy: 0.7246 - val_loss: 0.6497 - val_accuracy: 0.7507\n",
      "\n",
      "Epoch 00002: saving model to ../training_c1\\cp.ckpt\n",
      "Epoch 3/10\n",
      "1875/1875 [==============================] - 1s 599us/step - loss: 0.5851 - accuracy: 0.7775 - val_loss: 0.5818 - val_accuracy: 0.7873\n",
      "\n",
      "Epoch 00003: saving model to ../training_c1\\cp.ckpt\n",
      "Epoch 4/10\n",
      "1875/1875 [==============================] - 1s 608us/step - loss: 0.5344 - accuracy: 0.8094 - val_loss: 0.5321 - val_accuracy: 0.8167\n",
      "\n",
      "Epoch 00004: saving model to ../training_c1\\cp.ckpt\n",
      "Epoch 5/10\n",
      "1875/1875 [==============================] - 1s 624us/step - loss: 0.5178 - accuracy: 0.8200 - val_loss: 0.5832 - val_accuracy: 0.7966\n",
      "\n",
      "Epoch 00005: saving model to ../training_c1\\cp.ckpt\n",
      "Epoch 6/10\n",
      "1875/1875 [==============================] - 1s 602us/step - loss: 0.4984 - accuracy: 0.8298 - val_loss: 0.5587 - val_accuracy: 0.8016\n",
      "\n",
      "Epoch 00006: saving model to ../training_c1\\cp.ckpt\n",
      "Epoch 7/10\n",
      "1875/1875 [==============================] - 1s 603us/step - loss: 0.4900 - accuracy: 0.8311 - val_loss: 0.5644 - val_accuracy: 0.8055\n",
      "\n",
      "Epoch 00007: saving model to ../training_c1\\cp.ckpt\n",
      "Epoch 8/10\n",
      "1875/1875 [==============================] - 1s 604us/step - loss: 0.4847 - accuracy: 0.8334 - val_loss: 0.5429 - val_accuracy: 0.8175\n",
      "\n",
      "Epoch 00008: saving model to ../training_c1\\cp.ckpt\n",
      "Epoch 9/10\n",
      "1875/1875 [==============================] - 1s 611us/step - loss: 0.4744 - accuracy: 0.8388 - val_loss: 0.5516 - val_accuracy: 0.8308\n",
      "\n",
      "Epoch 00009: saving model to ../training_c1\\cp.ckpt\n",
      "Epoch 10/10\n",
      "1875/1875 [==============================] - 1s 606us/step - loss: 0.4702 - accuracy: 0.8405 - val_loss: 0.5321 - val_accuracy: 0.8264\n",
      "\n",
      "Epoch 00010: saving model to ../training_c1\\cp.ckpt\n",
      "313/313 - 0s - loss: 0.5321 - accuracy: 0.8264\n",
      "\n",
      "Epoch 00001: saving model to ../training_c1\\cp-0001.ckpt\n",
      "\n",
      "Epoch 00002: saving model to ../training_c1\\cp-0002.ckpt\n",
      "\n",
      "Epoch 00003: saving model to ../training_c1\\cp-0003.ckpt\n",
      "\n",
      "Epoch 00004: saving model to ../training_c1\\cp-0004.ckpt\n",
      "\n",
      "Epoch 00005: saving model to ../training_c1\\cp-0005.ckpt\n",
      "\n",
      "Epoch 00006: saving model to ../training_c1\\cp-0006.ckpt\n",
      "\n",
      "Epoch 00007: saving model to ../training_c1\\cp-0007.ckpt\n",
      "\n",
      "Epoch 00008: saving model to ../training_c1\\cp-0008.ckpt\n",
      "\n",
      "Epoch 00009: saving model to ../training_c1\\cp-0009.ckpt\n",
      "\n",
      "Epoch 00010: saving model to ../training_c1\\cp-0010.ckpt\n",
      "\n",
      "Epoch 00011: saving model to ../training_c1\\cp-0011.ckpt\n",
      "\n",
      "Epoch 00012: saving model to ../training_c1\\cp-0012.ckpt\n",
      "\n",
      "Epoch 00013: saving model to ../training_c1\\cp-0013.ckpt\n",
      "\n",
      "Epoch 00014: saving model to ../training_c1\\cp-0014.ckpt\n",
      "\n",
      "Epoch 00015: saving model to ../training_c1\\cp-0015.ckpt\n",
      "313/313 - 0s - loss: 0.5770 - accuracy: 0.8248\n",
      "313/313 - 0s - loss: 0.5770 - accuracy: 0.8248\n",
      "INFO:tensorflow:Assets written to: ./traning_1/my_model\\assets\n",
      "Model: \"sequential_2\"\n",
      "_________________________________________________________________\n",
      "Layer (type)                 Output Shape              Param #   \n",
      "=================================================================\n",
      "flatten_2 (Flatten)          (None, 784)               0         \n",
      "_________________________________________________________________\n",
      "dense_4 (Dense)              (None, 128)               100480    \n",
      "_________________________________________________________________\n",
      "dense_5 (Dense)              (None, 10)                1290      \n",
      "=================================================================\n",
      "Total params: 101,770\n",
      "Trainable params: 101,770\n",
      "Non-trainable params: 0\n",
      "_________________________________________________________________\n",
      "313/313 - 0s - loss: 0.5770 - accuracy: 0.8248\n",
      "복원된 모델의 정확도: 82.48%\n",
      "(10000, 10)\n",
      "Epoch 1/5\n",
      "1875/1875 [==============================] - 1s 527us/step - loss: 9.3706 - accuracy: 0.6621\n",
      "Epoch 2/5\n",
      "1875/1875 [==============================] - 1s 523us/step - loss: 0.7963 - accuracy: 0.7112\n",
      "Epoch 3/5\n",
      "1875/1875 [==============================] - 1s 527us/step - loss: 0.6563 - accuracy: 0.7650\n",
      "Epoch 4/5\n",
      "1875/1875 [==============================] - 1s 526us/step - loss: 0.5806 - accuracy: 0.7903\n",
      "Epoch 5/5\n",
      "1875/1875 [==============================] - 1s 527us/step - loss: 0.5765 - accuracy: 0.7887\n"
     ]
    }
   ],
   "source": [
    "# 1. 모델 생성\n",
    "import tensorflow as tf\n",
    "from tensorflow import keras\n",
    "\n",
    "import os\n",
    "import numpy as np\n",
    "import matplotlib\n",
    "import matplotlib.pyplot as plt\n",
    "\n",
    "fashion_mnist = keras.datasets.fashion_mnist\n",
    "(train_images, train_labels), (test_images, test_labels) = fashion_mnist.load_data()\n",
    "\n",
    "def create_model():\n",
    "    model = keras.Sequential([\n",
    "        keras.layers.Flatten(input_shape=(28, 28)),\n",
    "        keras.layers.Dense(128, activation='relu'),\n",
    "        keras.layers.Dense(10, activation='softmax')\n",
    "    ])\n",
    "\n",
    "    model.compile(optimizer='adam',\n",
    "                  loss='sparse_categorical_crossentropy',\n",
    "                  metrics=['accuracy'])\n",
    "    return model\n",
    "\n",
    "#3. 새로운 모델 생성 \n",
    "model = create_model()\n",
    "\n",
    "loss, acc = model.evaluate(test_images, \n",
    "                           test_labels,\n",
    "                          verbose=2)\n",
    "print(\"훈련되지 않은 모델의 정확도 : {:5.2f}%\".format(100*acc))\n",
    "\n",
    "# 모델 저장\n",
    "\n",
    "checkpoint_path =\"../training_c1/cp.ckpt\"\n",
    "checkpoint_dir = os.path.dirname(checkpoint_path)\n",
    "\n",
    "cp_callback = tf.keras.callbacks.ModelCheckpoint(filepath=checkpoint_path,\n",
    "                                                 save_weights_only=True,\n",
    "                                                 verbose=1)\n",
    "\n",
    "model.fit(train_images,\n",
    "          train_labels,\n",
    "          epochs=10,\n",
    "         validation_data=(test_images,test_labels),\n",
    "         callbacks = [cp_callback])\n",
    "\n",
    "#4. 저장된 모델 사용 \n",
    "\n",
    "# 가중치 로드\n",
    "model.load_weights(checkpoint_path)\n",
    "\n",
    "# 모델 재평가\n",
    "loss, acc = model.evaluate(test_images,\n",
    "                          test_labels,\n",
    "                          verbose=2)\n",
    "\n",
    "\n",
    "#5. 체크포인트 콜백 매개변수\n",
    "\n",
    "#파일이름에 에포크 번호 포함\n",
    "checkpoint_path =\"../training_c1/cp-{epoch:04d}.ckpt\"\n",
    "checkpoint_dir = os.path.dirname(checkpoint_path)\n",
    "\n",
    "cp_callback = tf.keras.callbacks.ModelCheckpoint(\n",
    "    filepath=checkpoint_path,\n",
    "    verbose=1,\n",
    "    save_weights_only=True,\n",
    "    save_freq=\"epoch\")\n",
    "\n",
    "# 새로운 모델 객체\n",
    "model = create_model()\n",
    "\n",
    "#checkpint_path 가중치 저장\n",
    "model.save_weights(checkpoint_path.format(epoch=0))\n",
    "\n",
    "model.fit(train_images,\n",
    "          train_labels,\n",
    "          epochs=15,\n",
    "         validation_data=(test_images,test_labels),\n",
    "         callbacks = [cp_callback],\n",
    "         verbose = 0)\n",
    "\n",
    "latest = tf.train.latest_checkpoint(checkpoint_dir)\n",
    "\n",
    "# 6. 최종 체크포인트로 모델 실행\n",
    "\n",
    "import warnings\n",
    "warnings.filterwarnings(action='ignore')\n",
    "\n",
    "#새로운 모델 객체\n",
    "model = create_model()\n",
    "\n",
    "#최종 체크포인트 로드 \n",
    "model.load_weights(latest)\n",
    "\n",
    "#모델 적용 \n",
    "loss, acc = model.evaluate(test_images,  test_labels, verbose=2)\n",
    "\n",
    "\n",
    "#7. 현재 모델 weights(가중치) 저장\n",
    "#weights 저장\n",
    "model.save_weights('../checkpoints/my_checkpoint')\n",
    "\n",
    "\n",
    "#weights 읽어오기\n",
    "model1= create_model()\n",
    "model1.load_weights('../checkpoints/my_checkpoint')\n",
    "\n",
    "#모델 적용\n",
    "loss, acc = model.evaluate(test_images,  test_labels, verbose=2)\n",
    "\n",
    "#8.모델 전체 저장\n",
    "model.save(\"./traning_1/my_model\")\n",
    "\n",
    "#9.모델 전체를 load \n",
    "\n",
    "new_model = tf.keras.models.load_model('traning_1/my_model')\n",
    "#읽어온 모델 구조 확인\n",
    "new_model.summary()\n",
    "\n",
    "loss, acc = new_model.evaluate(test_images,  test_labels, verbose=2)\n",
    "print('복원된 모델의 정확도: {:5.2f}%'.format(100*acc))\n",
    "\n",
    "print(new_model.predict(test_images).shape)\n",
    "\n",
    "model = create_model()\n",
    "model.fit(train_images, train_labels, epochs=5)\n",
    "# 10. HDF5 파일 저장하기\n",
    "model.save('my_model.h5')"
   ]
  },
  {
   "cell_type": "markdown",
   "metadata": {},
   "source": [
    "2. 모델 저장\n"
   ]
  },
  {
   "cell_type": "code",
   "execution_count": 5,
   "metadata": {},
   "outputs": [
    {
     "name": "stdout",
     "output_type": "stream",
     "text": [
      "Epoch 1/10\n",
      "1875/1875 [==============================] - 1s 676us/step - loss: 4.5459 - accuracy: 0.6870 - val_loss: 0.9417 - val_accuracy: 0.6861\n",
      "\n",
      "Epoch 00001: saving model to ../training_c1\\cp.ckpt\n",
      "Epoch 2/10\n",
      "1875/1875 [==============================] - 1s 634us/step - loss: 0.7603 - accuracy: 0.7269 - val_loss: 0.8502 - val_accuracy: 0.7117\n",
      "\n",
      "Epoch 00002: saving model to ../training_c1\\cp.ckpt\n",
      "Epoch 3/10\n",
      "1875/1875 [==============================] - 1s 637us/step - loss: 0.6204 - accuracy: 0.7821 - val_loss: 0.6375 - val_accuracy: 0.7870\n",
      "\n",
      "Epoch 00003: saving model to ../training_c1\\cp.ckpt\n",
      "Epoch 4/10\n",
      "1875/1875 [==============================] - 1s 631us/step - loss: 0.5651 - accuracy: 0.8098 - val_loss: 0.5961 - val_accuracy: 0.7955\n",
      "\n",
      "Epoch 00004: saving model to ../training_c1\\cp.ckpt\n",
      "Epoch 5/10\n",
      "1875/1875 [==============================] - 1s 627us/step - loss: 0.5318 - accuracy: 0.8216 - val_loss: 0.6064 - val_accuracy: 0.8121\n",
      "\n",
      "Epoch 00005: saving model to ../training_c1\\cp.ckpt\n",
      "Epoch 6/10\n",
      "1875/1875 [==============================] - 1s 636us/step - loss: 0.5113 - accuracy: 0.8287 - val_loss: 0.5746 - val_accuracy: 0.8045\n",
      "\n",
      "Epoch 00006: saving model to ../training_c1\\cp.ckpt\n",
      "Epoch 7/10\n",
      "1875/1875 [==============================] - 1s 631us/step - loss: 0.5132 - accuracy: 0.8313 - val_loss: 0.5798 - val_accuracy: 0.8088\n",
      "\n",
      "Epoch 00007: saving model to ../training_c1\\cp.ckpt\n",
      "Epoch 8/10\n",
      "1875/1875 [==============================] - 1s 632us/step - loss: 0.4946 - accuracy: 0.8349 - val_loss: 0.5578 - val_accuracy: 0.8180\n",
      "\n",
      "Epoch 00008: saving model to ../training_c1\\cp.ckpt\n",
      "Epoch 9/10\n",
      "1875/1875 [==============================] - 1s 631us/step - loss: 0.4862 - accuracy: 0.8360 - val_loss: 0.5200 - val_accuracy: 0.8339\n",
      "\n",
      "Epoch 00009: saving model to ../training_c1\\cp.ckpt\n",
      "Epoch 10/10\n",
      "1875/1875 [==============================] - 1s 636us/step - loss: 0.4924 - accuracy: 0.8360 - val_loss: 0.5584 - val_accuracy: 0.8299\n",
      "\n",
      "Epoch 00010: saving model to ../training_c1\\cp.ckpt\n"
     ]
    },
    {
     "data": {
      "text/plain": [
       "<tensorflow.python.keras.callbacks.History at 0x1feebef07b8>"
      ]
     },
     "execution_count": 5,
     "metadata": {},
     "output_type": "execute_result"
    }
   ],
   "source": [
    "checkpoint_path =\"../training_c1/cp.ckpt\"\n",
    "checkpoint_dir = os.path.dirname(checkpoint_path)\n",
    "\n",
    "cp_callback = tf.keras.callbacks.ModelCheckpoint(filepath=checkpoint_path,\n",
    "                                                 save_weights_only=True,\n",
    "                                                 verbose=1)\n",
    "\n",
    "model.fit(train_images,\n",
    "          train_labels,\n",
    "          epochs=10,\n",
    "         validation_data=(test_images,test_labels),\n",
    "         callbacks = [cp_callback])"
   ]
  },
  {
   "cell_type": "markdown",
   "metadata": {},
   "source": [
    "4. 저장된 모델 사용"
   ]
  },
  {
   "cell_type": "code",
   "execution_count": 6,
   "metadata": {},
   "outputs": [
    {
     "name": "stdout",
     "output_type": "stream",
     "text": [
      "313/313 - 0s - loss: 0.5584 - accuracy: 0.8299\n"
     ]
    }
   ],
   "source": [
    "# 가중치 로드\n",
    "model.load_weights(checkpoint_path)\n",
    "\n",
    "# 모델 재평가\n",
    "loss, acc = model.evaluate(test_images,\n",
    "                          test_labels,\n",
    "                          verbose=2)"
   ]
  },
  {
   "cell_type": "markdown",
   "metadata": {},
   "source": [
    "5. 체크포인트 콜백 매개변수"
   ]
  },
  {
   "cell_type": "code",
   "execution_count": 7,
   "metadata": {
    "scrolled": true
   },
   "outputs": [
    {
     "name": "stdout",
     "output_type": "stream",
     "text": [
      "\n",
      "Epoch 00001: saving model to ../training_c1\\cp-0001.ckpt\n",
      "\n",
      "Epoch 00002: saving model to ../training_c1\\cp-0002.ckpt\n",
      "\n",
      "Epoch 00003: saving model to ../training_c1\\cp-0003.ckpt\n",
      "\n",
      "Epoch 00004: saving model to ../training_c1\\cp-0004.ckpt\n",
      "\n",
      "Epoch 00005: saving model to ../training_c1\\cp-0005.ckpt\n",
      "\n",
      "Epoch 00006: saving model to ../training_c1\\cp-0006.ckpt\n",
      "\n",
      "Epoch 00007: saving model to ../training_c1\\cp-0007.ckpt\n",
      "\n",
      "Epoch 00008: saving model to ../training_c1\\cp-0008.ckpt\n",
      "\n",
      "Epoch 00009: saving model to ../training_c1\\cp-0009.ckpt\n",
      "\n",
      "Epoch 00010: saving model to ../training_c1\\cp-0010.ckpt\n",
      "\n",
      "Epoch 00011: saving model to ../training_c1\\cp-0011.ckpt\n",
      "\n",
      "Epoch 00012: saving model to ../training_c1\\cp-0012.ckpt\n",
      "\n",
      "Epoch 00013: saving model to ../training_c1\\cp-0013.ckpt\n",
      "\n",
      "Epoch 00014: saving model to ../training_c1\\cp-0014.ckpt\n",
      "\n",
      "Epoch 00015: saving model to ../training_c1\\cp-0015.ckpt\n"
     ]
    },
    {
     "data": {
      "text/plain": [
       "<tensorflow.python.keras.callbacks.History at 0x1fef1fdfeb8>"
      ]
     },
     "execution_count": 7,
     "metadata": {},
     "output_type": "execute_result"
    }
   ],
   "source": [
    "#파일이름에 에포크 번호 포함\n",
    "checkpoint_path =\"../training_c1/cp-{epoch:04d}.ckpt\"\n",
    "checkpoint_dir = os.path.dirname(checkpoint_path)\n",
    "\n",
    "cp_callback = tf.keras.callbacks.ModelCheckpoint(\n",
    "    filepath=checkpoint_path,\n",
    "    verbose=1,\n",
    "    save_weights_only=True,\n",
    "    save_freq=\"epoch\")\n",
    "\n",
    "# 새로운 모델 객체\n",
    "model = create_model()\n",
    "\n",
    "#checkpint_path 가중치 저장\n",
    "model.save_weights(checkpoint_path.format(epoch=0))\n",
    "\n",
    "model.fit(train_images,\n",
    "          train_labels,\n",
    "          epochs=15,\n",
    "         validation_data=(test_images,test_labels),\n",
    "         callbacks = [cp_callback],\n",
    "         verbose = 0)"
   ]
  },
  {
   "cell_type": "code",
   "execution_count": 8,
   "metadata": {},
   "outputs": [
    {
     "data": {
      "text/plain": [
       "'../training_c1\\\\cp-0015.ckpt'"
      ]
     },
     "execution_count": 8,
     "metadata": {},
     "output_type": "execute_result"
    }
   ],
   "source": [
    "latest = tf.train.latest_checkpoint(checkpoint_dir)\n",
    "latest"
   ]
  },
  {
   "cell_type": "markdown",
   "metadata": {},
   "source": [
    "6. 최종 체크포인트로 모델 실행"
   ]
  },
  {
   "cell_type": "code",
   "execution_count": 9,
   "metadata": {},
   "outputs": [
    {
     "name": "stdout",
     "output_type": "stream",
     "text": [
      "313/313 - 0s - loss: 0.5544 - accuracy: 0.8215\n"
     ]
    }
   ],
   "source": [
    "import warnings\n",
    "warnings.filterwarnings(action='ignore')\n",
    "\n",
    "#새로운 모델 객체\n",
    "model = create_model()\n",
    "\n",
    "#최종 체크포인트 로드 \n",
    "model.load_weights(latest)\n",
    "\n",
    "#모델 적용 \n",
    "loss, acc = model.evaluate(test_images,  test_labels, verbose=2)\n"
   ]
  },
  {
   "cell_type": "markdown",
   "metadata": {},
   "source": [
    "7. 현재 모델 weights(가중치) 저장\n"
   ]
  },
  {
   "cell_type": "code",
   "execution_count": 10,
   "metadata": {},
   "outputs": [],
   "source": [
    "#weights 저장\n",
    "model.save_weights('../checkpoints/my_checkpoint')"
   ]
  },
  {
   "cell_type": "code",
   "execution_count": 11,
   "metadata": {},
   "outputs": [
    {
     "data": {
      "text/plain": [
       "<tensorflow.python.training.tracking.util.CheckpointLoadStatus at 0x1fef1fb4198>"
      ]
     },
     "execution_count": 11,
     "metadata": {},
     "output_type": "execute_result"
    }
   ],
   "source": [
    "#weights 읽어오기\n",
    "model1= create_model()\n",
    "model1.load_weights('../checkpoints/my_checkpoint')"
   ]
  },
  {
   "cell_type": "code",
   "execution_count": 12,
   "metadata": {},
   "outputs": [
    {
     "name": "stdout",
     "output_type": "stream",
     "text": [
      "313/313 - 0s - loss: 0.5544 - accuracy: 0.8215\n"
     ]
    }
   ],
   "source": [
    "#모델 적용\n",
    "loss, acc = model.evaluate(test_images,  test_labels, verbose=2)\n"
   ]
  },
  {
   "cell_type": "markdown",
   "metadata": {},
   "source": [
    "8.모델 전체 저장"
   ]
  },
  {
   "cell_type": "code",
   "execution_count": null,
   "metadata": {},
   "outputs": [],
   "source": [
    "# 새로운 모델 객체를 만들고 훈련합니다\n",
    "#model = create_model()\n",
    "#model.fit(train_images, train_labels, epochs=5)"
   ]
  },
  {
   "cell_type": "code",
   "execution_count": 14,
   "metadata": {},
   "outputs": [],
   "source": [
    "# SavedModel로 전체 모델을 저장합니다\n",
    "# !mkdir -p saved_model  폴더가 없어도 자동으로 생성해서 만듬\n",
    "# model.save('saved_model/my_model')\n"
   ]
  },
  {
   "cell_type": "code",
   "execution_count": 13,
   "metadata": {},
   "outputs": [
    {
     "name": "stdout",
     "output_type": "stream",
     "text": [
      "INFO:tensorflow:Assets written to: ./traning_1/my_model\\assets\n"
     ]
    }
   ],
   "source": [
    "model.save(\"./traning_1/my_model\")"
   ]
  },
  {
   "cell_type": "markdown",
   "metadata": {},
   "source": [
    "9.모델 전체를 load "
   ]
  },
  {
   "cell_type": "code",
   "execution_count": 15,
   "metadata": {},
   "outputs": [
    {
     "name": "stdout",
     "output_type": "stream",
     "text": [
      "Model: \"sequential_3\"\n",
      "_________________________________________________________________\n",
      "Layer (type)                 Output Shape              Param #   \n",
      "=================================================================\n",
      "flatten_3 (Flatten)          (None, 784)               0         \n",
      "_________________________________________________________________\n",
      "dense_6 (Dense)              (None, 128)               100480    \n",
      "_________________________________________________________________\n",
      "dense_7 (Dense)              (None, 10)                1290      \n",
      "=================================================================\n",
      "Total params: 101,770\n",
      "Trainable params: 101,770\n",
      "Non-trainable params: 0\n",
      "_________________________________________________________________\n"
     ]
    }
   ],
   "source": [
    "new_model = tf.keras.models.load_model('traning_1/my_model')\n",
    "#읽어온 모델 구조 확인\n",
    "new_model.summary()"
   ]
  },
  {
   "cell_type": "code",
   "execution_count": 16,
   "metadata": {},
   "outputs": [
    {
     "name": "stdout",
     "output_type": "stream",
     "text": [
      "313/313 - 0s - loss: 0.5544 - accuracy: 0.8215\n",
      "복원된 모델의 정확도: 82.15%\n",
      "(10000, 10)\n"
     ]
    }
   ],
   "source": [
    "loss, acc = new_model.evaluate(test_images,  test_labels, verbose=2)\n",
    "print('복원된 모델의 정확도: {:5.2f}%'.format(100*acc))\n",
    "\n",
    "print(new_model.predict(test_images).shape)"
   ]
  },
  {
   "cell_type": "markdown",
   "metadata": {},
   "source": [
    "10. HDF5 파일 저장하기"
   ]
  },
  {
   "cell_type": "code",
   "execution_count": 17,
   "metadata": {},
   "outputs": [
    {
     "name": "stdout",
     "output_type": "stream",
     "text": [
      "Epoch 1/5\n",
      "1875/1875 [==============================] - 1s 570us/step - loss: 10.6347 - accuracy: 0.6652\n",
      "Epoch 2/5\n",
      "1875/1875 [==============================] - 1s 576us/step - loss: 0.6872 - accuracy: 0.7690\n",
      "Epoch 3/5\n",
      "1875/1875 [==============================] - 1s 566us/step - loss: 0.5966 - accuracy: 0.7955\n",
      "Epoch 4/5\n",
      "1875/1875 [==============================] - 1s 567us/step - loss: 0.5631 - accuracy: 0.8028\n",
      "Epoch 5/5\n",
      "1875/1875 [==============================] - 1s 566us/step - loss: 0.5275 - accuracy: 0.8144\n"
     ]
    }
   ],
   "source": [
    "model = create_model()\n",
    "model.fit(train_images, train_labels, epochs=5)\n",
    "\n",
    "model.save('my_model.h5')"
   ]
  },
  {
   "cell_type": "code",
   "execution_count": null,
   "metadata": {},
   "outputs": [],
   "source": []
  }
 ],
 "metadata": {
  "kernelspec": {
   "display_name": "study2",
   "language": "python",
   "name": "study"
  },
  "language_info": {
   "codemirror_mode": {
    "name": "ipython",
    "version": 3
   },
   "file_extension": ".py",
   "mimetype": "text/x-python",
   "name": "python",
   "nbconvert_exporter": "python",
   "pygments_lexer": "ipython3",
   "version": "3.6.12"
  }
 },
 "nbformat": 4,
 "nbformat_minor": 4
}
